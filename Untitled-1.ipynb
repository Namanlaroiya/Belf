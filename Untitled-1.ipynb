{
 "cells": [
  {
   "cell_type": "code",
   "execution_count": 1,
   "metadata": {},
   "outputs": [
    {
     "ename": "TclError",
     "evalue": "no display name and no $DISPLAY environment variable",
     "output_type": "error",
     "traceback": [
      "\u001b[0;31m---------------------------------------------------------------------------\u001b[0m",
      "\u001b[0;31mTclError\u001b[0m                                  Traceback (most recent call last)",
      "Cell \u001b[0;32mIn[1], line 17\u001b[0m\n\u001b[1;32m     13\u001b[0m \t\tside \u001b[39m-\u001b[39m\u001b[39m=\u001b[39m \u001b[39m10\u001b[39m\n\u001b[1;32m     16\u001b[0m \u001b[39m# Forming the window screen\u001b[39;00m\n\u001b[0;32m---> 17\u001b[0m tut \u001b[39m=\u001b[39m turtle\u001b[39m.\u001b[39;49mScreen()\n\u001b[1;32m     18\u001b[0m tut\u001b[39m.\u001b[39mbgcolor(\u001b[39m\"\u001b[39m\u001b[39mgreen\u001b[39m\u001b[39m\"\u001b[39m)\n\u001b[1;32m     19\u001b[0m tut\u001b[39m.\u001b[39mtitle(\u001b[39m\"\u001b[39m\u001b[39mTurtle\u001b[39m\u001b[39m\"\u001b[39m)\n",
      "File \u001b[0;32m/usr/local/python/3.10.8/lib/python3.10/turtle.py:3664\u001b[0m, in \u001b[0;36mScreen\u001b[0;34m()\u001b[0m\n\u001b[1;32m   3660\u001b[0m \u001b[39m\u001b[39m\u001b[39m\"\"\"Return the singleton screen object.\u001b[39;00m\n\u001b[1;32m   3661\u001b[0m \u001b[39mIf none exists at the moment, create a new one and return it,\u001b[39;00m\n\u001b[1;32m   3662\u001b[0m \u001b[39melse return the existing one.\"\"\"\u001b[39;00m\n\u001b[1;32m   3663\u001b[0m \u001b[39mif\u001b[39;00m Turtle\u001b[39m.\u001b[39m_screen \u001b[39mis\u001b[39;00m \u001b[39mNone\u001b[39;00m:\n\u001b[0;32m-> 3664\u001b[0m     Turtle\u001b[39m.\u001b[39m_screen \u001b[39m=\u001b[39m _Screen()\n\u001b[1;32m   3665\u001b[0m \u001b[39mreturn\u001b[39;00m Turtle\u001b[39m.\u001b[39m_screen\n",
      "File \u001b[0;32m/usr/local/python/3.10.8/lib/python3.10/turtle.py:3680\u001b[0m, in \u001b[0;36m_Screen.__init__\u001b[0;34m(self)\u001b[0m\n\u001b[1;32m   3673\u001b[0m \u001b[39mdef\u001b[39;00m \u001b[39m__init__\u001b[39m(\u001b[39mself\u001b[39m):\n\u001b[1;32m   3674\u001b[0m     \u001b[39m# XXX there is no need for this code to be conditional,\u001b[39;00m\n\u001b[1;32m   3675\u001b[0m     \u001b[39m# as there will be only a single _Screen instance, anyway\u001b[39;00m\n\u001b[1;32m   3676\u001b[0m     \u001b[39m# XXX actually, the turtle demo is injecting root window,\u001b[39;00m\n\u001b[1;32m   3677\u001b[0m     \u001b[39m# so perhaps the conditional creation of a root should be\u001b[39;00m\n\u001b[1;32m   3678\u001b[0m     \u001b[39m# preserved (perhaps by passing it as an optional parameter)\u001b[39;00m\n\u001b[1;32m   3679\u001b[0m     \u001b[39mif\u001b[39;00m _Screen\u001b[39m.\u001b[39m_root \u001b[39mis\u001b[39;00m \u001b[39mNone\u001b[39;00m:\n\u001b[0;32m-> 3680\u001b[0m         _Screen\u001b[39m.\u001b[39m_root \u001b[39m=\u001b[39m \u001b[39mself\u001b[39m\u001b[39m.\u001b[39m_root \u001b[39m=\u001b[39m _Root()\n\u001b[1;32m   3681\u001b[0m         \u001b[39mself\u001b[39m\u001b[39m.\u001b[39m_root\u001b[39m.\u001b[39mtitle(_Screen\u001b[39m.\u001b[39m_title)\n\u001b[1;32m   3682\u001b[0m         \u001b[39mself\u001b[39m\u001b[39m.\u001b[39m_root\u001b[39m.\u001b[39mondestroy(\u001b[39mself\u001b[39m\u001b[39m.\u001b[39m_destroy)\n",
      "File \u001b[0;32m/usr/local/python/3.10.8/lib/python3.10/turtle.py:435\u001b[0m, in \u001b[0;36m_Root.__init__\u001b[0;34m(self)\u001b[0m\n\u001b[1;32m    434\u001b[0m \u001b[39mdef\u001b[39;00m \u001b[39m__init__\u001b[39m(\u001b[39mself\u001b[39m):\n\u001b[0;32m--> 435\u001b[0m     TK\u001b[39m.\u001b[39;49mTk\u001b[39m.\u001b[39;49m\u001b[39m__init__\u001b[39;49m(\u001b[39mself\u001b[39;49m)\n",
      "File \u001b[0;32m/usr/local/python/3.10.8/lib/python3.10/tkinter/__init__.py:2299\u001b[0m, in \u001b[0;36mTk.__init__\u001b[0;34m(self, screenName, baseName, className, useTk, sync, use)\u001b[0m\n\u001b[1;32m   2297\u001b[0m         baseName \u001b[39m=\u001b[39m baseName \u001b[39m+\u001b[39m ext\n\u001b[1;32m   2298\u001b[0m interactive \u001b[39m=\u001b[39m \u001b[39mFalse\u001b[39;00m\n\u001b[0;32m-> 2299\u001b[0m \u001b[39mself\u001b[39m\u001b[39m.\u001b[39mtk \u001b[39m=\u001b[39m _tkinter\u001b[39m.\u001b[39;49mcreate(screenName, baseName, className, interactive, wantobjects, useTk, sync, use)\n\u001b[1;32m   2300\u001b[0m \u001b[39mif\u001b[39;00m useTk:\n\u001b[1;32m   2301\u001b[0m     \u001b[39mself\u001b[39m\u001b[39m.\u001b[39m_loadtk()\n",
      "\u001b[0;31mTclError\u001b[0m: no display name and no $DISPLAY environment variable"
     ]
    }
   ],
   "source": [
    "# Belf\n",
    "\n",
    "# import the turtle modules\n",
    "import turtle\n",
    "\n",
    "\n",
    "# define the function\n",
    "# for triangle\n",
    "def form_tri(side):\n",
    "\tfor i in range(3):\n",
    "\t\tmy_pen.fd(side)\n",
    "\t\tmy_pen.left(120)\n",
    "\t\tside -= 10\n",
    "\n",
    "\t\t\n",
    "# Forming the window screen\n",
    "tut = turtle.Screen()\n",
    "tut.bgcolor(\"green\")\n",
    "tut.title(\"Turtle\")\n",
    "\n",
    "my_pen = turtle.Turtle()\n",
    "my_pen.color(\"orange\")\n",
    "\n",
    "tut = turtle.Screen()\t\t\n",
    "\n",
    "# for different shapes\n",
    "side = 300\n",
    "for i in range(10):\n",
    "\tform_tri(side)\n",
    "\tside -= 30\n"
   ]
  }
 ],
 "metadata": {
  "kernelspec": {
   "display_name": "Python 3 (ipykernel)",
   "language": "python",
   "name": "python3"
  },
  "language_info": {
   "codemirror_mode": {
    "name": "ipython",
    "version": 3
   },
   "file_extension": ".py",
   "mimetype": "text/x-python",
   "name": "python",
   "nbconvert_exporter": "python",
   "pygments_lexer": "ipython3",
   "version": "3.10.8"
  },
  "orig_nbformat": 4
 },
 "nbformat": 4,
 "nbformat_minor": 2
}
